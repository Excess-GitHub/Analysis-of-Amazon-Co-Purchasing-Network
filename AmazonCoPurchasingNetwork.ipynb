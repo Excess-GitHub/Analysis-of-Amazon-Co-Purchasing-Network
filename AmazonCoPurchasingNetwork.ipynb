{
 "cells": [
  {
   "cell_type": "code",
   "execution_count": 1,
   "id": "637633a7",
   "metadata": {},
   "outputs": [],
   "source": [
    "import igraph as ig\n",
    "from igraph import Graph\n",
    "import matplotlib.pyplot as plt\n",
    "import re\n",
    "import pandas as pd"
   ]
  },
  {
   "cell_type": "code",
   "execution_count": 2,
   "id": "495da15f",
   "metadata": {},
   "outputs": [],
   "source": [
    "path = \"amazon-meta.txt\"\n",
    "file = open(path, 'r', encoding=\"utf8\")"
   ]
  },
  {
   "cell_type": "code",
   "execution_count": 3,
   "id": "4b0ac226",
   "metadata": {},
   "outputs": [],
   "source": [
    "products = {}\n",
    "\n",
    "(Id, ASIN, title, group, salesrank, similar, categories, total_reviews, avg_rating) = (\"\", \"\", \"\", \"\", 0, [], \"\", 0, 0.0)\n",
    "\n",
    "for line in file:\n",
    "    line = line.strip()\n",
    "    \n",
    "    if (line.startswith(\"Id\")):\n",
    "        Id = line[3:].strip()\n",
    "        #print(Id)\n",
    "    elif (line.startswith(\"ASIN\")):\n",
    "        ASIN = line[5:].strip()\n",
    "        #print(ASIN)\n",
    "    elif (line.startswith(\"title\")):\n",
    "        title = line[6:].strip()\n",
    "        #print(title)\n",
    "    elif (line.startswith(\"group\")):\n",
    "        group = line[6:].strip()\n",
    "        #print(group)\n",
    "    elif (line.startswith(\"salesrank\")):\n",
    "        salesrank = line[10:].strip()\n",
    "        #print(salesrank)\n",
    "    elif (line.startswith(\"similar\")):\n",
    "        similar = line[10:].strip()\n",
    "        similar = similar.split()\n",
    "        #print(similar)\n",
    "    elif (line.startswith(\"categories\")):\n",
    "        a = line.split()\n",
    "        categories = ' '.join((file.readline()) for i in range(int(a[1].strip())))\n",
    "        categories = ' '.join(word for word in categories.split(\"|\"))\n",
    "        categories = ' '.join(word for word in categories.split())\n",
    "        pattern = r'\\[[0-9]+\\]\\s?'\n",
    "        categories = '#'.join(word for word in set(re.split(pattern, categories)))\n",
    "        categories = categories.strip()\n",
    "        #print(categories)\n",
    "    elif (line.startswith(\"reviews\")):\n",
    "        b = line.split()\n",
    "        total_reviews = b[2].strip()\n",
    "        avg_rating = b[7].strip()\n",
    "        #print(total_reviews, avg_rating)\n",
    "    elif(line==\"\"):\n",
    "        metadata = {}\n",
    "        if(ASIN!=\"\"):\n",
    "            products[ASIN] = metadata\n",
    "            metadata['Id'] = Id\n",
    "            metadata['title'] = title\n",
    "            metadata['group'] = group\n",
    "            metadata['salesrank'] = int(salesrank)\n",
    "            metadata['similar'] = similar\n",
    "            metadata['categories'] = categories\n",
    "            metadata['total_reviews'] = int(total_reviews)\n",
    "            metadata['avg_rating'] = float(avg_rating)\n",
    "        (Id, ASIN, title, group, salesrank, similar, categories, total_reviews, avg_rating) = (\"\", \"\", \"\", \"\", 0, [], \"\", 0, 0.0)\n",
    "        \n",
    "file.close()"
   ]
  },
  {
   "cell_type": "code",
   "execution_count": 4,
   "id": "f63f1587",
   "metadata": {},
   "outputs": [
    {
     "name": "stdout",
     "output_type": "stream",
     "text": [
      "{'Id': '54437', 'title': 'My Life so Far', 'group': 'DVD', 'salesrank': 9456, 'similar': ['B00008L3S0', 'B000056N8V', 'B000069I02', 'B00006JDVX', 'B00015YVI6'], 'categories': \"#Amazon.com Stores#Drama#Amazon.com Outlet#Hudson, Hugh#By Theme#Childhood Drama#Mastrantonio, Mary Elizabeth#Directors#Art House & International#( H )#Specialty Stores#Children#Special Features#United Kingdom#DVD Outlet#Genres#Studio Specials#Harris, Rosemary#Miramax Home Video#Actors & Actresses#Comedy#Family Interaction#( F )#Firth, Colin#Coming of Age#Today's Deals in DVD#All Titles#Deals Under $15#By Country#Period Piece#Titles#Family Life#( M )#Foreign Spotlight#MacDonald, Kelly#DVD#Categories#McDowell, Malcolm#General\", 'total_reviews': 16, 'avg_rating': 3.5}\n"
     ]
    }
   ],
   "source": [
    "print(products[\"6305692610\"])"
   ]
  },
  {
   "cell_type": "code",
   "execution_count": 5,
   "id": "ab81b685",
   "metadata": {},
   "outputs": [],
   "source": [
    "df = pd.DataFrame.from_dict(products)\n",
    "df = df.transpose()\n",
    "df = df.rename(columns={'Id':'id'})\n",
    "df['id'] = df.index.values\n",
    "df.reset_index(inplace=True)\n",
    "df = df.drop('index', axis=1)\n",
    "df = df[df[\"group\"] != \"\"]\n",
    "df = df[df[\"title\"] != \"\"]\n",
    "df = df[df[\"categories\"] != \"\"]\n",
    "df = df[df[\"salesrank\"] != 0]\n",
    "df = df[df[\"salesrank\"] != -1]\n",
    "df = df.reset_index(drop=True)\n",
    "df.to_csv('products_metadata.csv', index=False)"
   ]
  },
  {
   "cell_type": "code",
   "execution_count": 6,
   "id": "69ddca4e",
   "metadata": {},
   "outputs": [
    {
     "name": "stdout",
     "output_type": "stream",
     "text": [
      "                id                                              title  group   \n",
      "0       0827229534            Patterns of Preaching: A Sermon Sampler   Book  \\\n",
      "1       0738700797                         Candlemas: Feast of Flames   Book   \n",
      "2       0486287785   World War II Allied Fighter Planes Trading Cards   Book   \n",
      "3       0842328327  Life Application Bible Commentary: 1 and 2 Tim...   Book   \n",
      "4       1577943082    Prayers That Avail Much for Business: Executive   Book   \n",
      "...            ...                                                ...    ...   \n",
      "519471  0520053311                                     Implementation   Book   \n",
      "519472  6300186016                                 She Done Him Wrong  Video   \n",
      "519473  0867200170  Aquatic Entomology: The Fishermen's Guide and ...   Book   \n",
      "519474  158483000X                         Needless Casualties of War   Book   \n",
      "519475  0972380108  Start Your Own Computer Business: Building a S...   Book   \n",
      "\n",
      "       salesrank                                            similar   \n",
      "0         396585  [0804215715, 156101074X, 0687023955, 068707423...  \\\n",
      "1         168596  [0738700827, 1567184960, 1567182836, 073870052...   \n",
      "2        1270652                                                 []   \n",
      "3         631289  [0842328130, 0830818138, 0842330313, 084232861...   \n",
      "4         455160  [157794349X, 0892749504, 1577941829, 089274956...   \n",
      "...          ...                                                ...   \n",
      "519471     98881  [0321121856, 0465007856, 0871545268, 027101466...   \n",
      "519472     10938  [6305077622, 6305078203, 6300181294, 630507826...   \n",
      "519473    124435  [0939923874, 0787232416, 0471358371, 012690647...   \n",
      "519474     34810  [1584830492, 096290497X, 0768422329, 158483037...   \n",
      "519475     19786  [0972380116, 0471348139, 0764525786, 078972800...   \n",
      "\n",
      "                                               categories total_reviews   \n",
      "0       #Subjects#Religion & Spirituality#Clergy#Sermo...             2  \\\n",
      "1       #Subjects#Religion & Spirituality#Earth-Based ...            12   \n",
      "2       #Subjects#Home & Garden#Crafts & Hobbies#Gener...             1   \n",
      "3       #Subjects#Religion & Spirituality#Commentaries...             1   \n",
      "4       #Subjects#Religion & Spirituality#Prayerbooks#...             0   \n",
      "...                                                   ...           ...   \n",
      "519471  #Subjects#Business & Investing Books#Home & Of...             1   \n",
      "519472  #Hudson, Rochelle#( G )#Beery, Noah#( A )#Love...            13   \n",
      "519473  #Natural Resources#Subjects#Entomology#Fisheri...             6   \n",
      "519474  #Subjects#Religion & Spirituality#Christian Li...            11   \n",
      "519475  #Subjects#Maintenance, Repair & Upgrading#Pers...            11   \n",
      "\n",
      "       avg_rating  \n",
      "0             5.0  \n",
      "1             4.5  \n",
      "2             5.0  \n",
      "3             4.0  \n",
      "4             0.0  \n",
      "...           ...  \n",
      "519471        4.0  \n",
      "519472        4.5  \n",
      "519473        3.5  \n",
      "519474        5.0  \n",
      "519475        5.0  \n",
      "\n",
      "[519476 rows x 8 columns]\n"
     ]
    }
   ],
   "source": [
    "print(df)"
   ]
  },
  {
   "cell_type": "code",
   "execution_count": 7,
   "id": "43af8946",
   "metadata": {},
   "outputs": [],
   "source": [
    "def createSubset(subset, group):\n",
    "    for key, value in products.items():\n",
    "        if(value['group'] == group):\n",
    "            subset[key] = products[key]\n",
    "    for key, value in subset.items():\n",
    "        subset[key]['similar'] = [similar for similar in value['similar'] if similar in products.keys()]"
   ]
  },
  {
   "cell_type": "code",
   "execution_count": 8,
   "id": "4448c30a",
   "metadata": {},
   "outputs": [],
   "source": [
    "dvd = {}\n",
    "books = {}\n",
    "music = {}\n",
    "videos = {}\n",
    "\n",
    "createSubset(dvd, \"DVD\")\n",
    "createSubset(books, \"Book\")\n",
    "createSubset(music, \"Music\")\n",
    "createSubset(videos, \"Video\")"
   ]
  },
  {
   "cell_type": "code",
   "execution_count": 9,
   "id": "00978f78",
   "metadata": {},
   "outputs": [
    {
     "name": "stdout",
     "output_type": "stream",
     "text": [
      "IGRAPH DN-- 19694 54388 -- \n",
      "+ attr: name (v)\n"
     ]
    }
   ],
   "source": [
    "g_dvd = Graph.TupleList([(k, v) for k, vs in dvd.items() for v in vs['similar']], directed=True)\n",
    "ig.summary(g_dvd)"
   ]
  },
  {
   "cell_type": "code",
   "execution_count": 10,
   "id": "bb01e82f",
   "metadata": {},
   "outputs": [
    {
     "name": "stdout",
     "output_type": "stream",
     "text": [
      "IGRAPH DN-- 272909 916404 -- \n",
      "+ attr: name (v)\n"
     ]
    }
   ],
   "source": [
    "g_books = Graph.TupleList([(k, v) for k, vs in books.items() for v in vs['similar']], directed=True)\n",
    "ig.summary(g_books)"
   ]
  },
  {
   "cell_type": "code",
   "execution_count": 11,
   "id": "70f1b620",
   "metadata": {},
   "outputs": [
    {
     "name": "stdout",
     "output_type": "stream",
     "text": [
      "IGRAPH DN-- 63945 204262 -- \n",
      "+ attr: name (v)\n"
     ]
    }
   ],
   "source": [
    "g_music = Graph.TupleList([(k, v) for k, vs in music.items() for v in vs['similar']], directed=True)\n",
    "ig.summary(g_music)"
   ]
  },
  {
   "cell_type": "code",
   "execution_count": 12,
   "id": "b6623d1f",
   "metadata": {},
   "outputs": [
    {
     "name": "stdout",
     "output_type": "stream",
     "text": [
      "IGRAPH DN-- 27652 56369 -- \n",
      "+ attr: name (v)\n"
     ]
    }
   ],
   "source": [
    "g_videos = Graph.TupleList([(k, v) for k, vs in videos.items() for v in vs['similar']], directed=True)\n",
    "ig.summary(g_videos)"
   ]
  },
  {
   "cell_type": "code",
   "execution_count": 13,
   "id": "896ebd2d",
   "metadata": {},
   "outputs": [],
   "source": [
    "everything = {}\n",
    "for key, value in products.items():\n",
    "        everything[key] = products[key]\n",
    "for key, value in everything.items():\n",
    "    everything[key]['similar'] = [similar for similar in value['similar'] if similar in everything.keys()]"
   ]
  },
  {
   "cell_type": "code",
   "execution_count": 14,
   "id": "246e1960",
   "metadata": {},
   "outputs": [
    {
     "name": "stdout",
     "output_type": "stream",
     "text": [
      "IGRAPH DN-- 366997 1231439 -- \n",
      "+ attr: name (v)\n"
     ]
    }
   ],
   "source": [
    "g = Graph.TupleList([(k, v) for k, vs in everything.items() for v in vs['similar']], directed=True)\n",
    "ig.summary(g)"
   ]
  },
  {
   "cell_type": "code",
   "execution_count": 15,
   "id": "e19ae8bc",
   "metadata": {},
   "outputs": [],
   "source": [
    "def createCSV(g, filename):\n",
    "    vertex_names = {v.index: v[\"name\"] for v in g.vs}\n",
    "    edgelist = [(vertex_names[e[0]], vertex_names[e[1]]) for e in g.get_edgelist()]\n",
    "    df = pd.DataFrame(edgelist, columns=['source', 'target'])\n",
    "    df.to_csv(filename, index=False)"
   ]
  },
  {
   "cell_type": "code",
   "execution_count": 16,
   "id": "419ecc79",
   "metadata": {},
   "outputs": [],
   "source": [
    "createCSV(g_dvd, 'dvd.csv')\n",
    "createCSV(g_books, 'books.csv')\n",
    "createCSV(g_music, 'music.csv')\n",
    "createCSV(g_videos, 'videos.csv')\n",
    "createCSV(g, 'products.csv')"
   ]
  },
  {
   "cell_type": "code",
   "execution_count": null,
   "id": "4f31f1f4",
   "metadata": {},
   "outputs": [],
   "source": []
  }
 ],
 "metadata": {
  "kernelspec": {
   "display_name": "Python 3 (ipykernel)",
   "language": "python",
   "name": "python3"
  },
  "language_info": {
   "codemirror_mode": {
    "name": "ipython",
    "version": 3
   },
   "file_extension": ".py",
   "mimetype": "text/x-python",
   "name": "python",
   "nbconvert_exporter": "python",
   "pygments_lexer": "ipython3",
   "version": "3.9.4"
  }
 },
 "nbformat": 4,
 "nbformat_minor": 5
}
